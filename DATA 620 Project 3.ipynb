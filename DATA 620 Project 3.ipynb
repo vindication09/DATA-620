{
 "cells": [
  {
   "cell_type": "markdown",
   "metadata": {},
   "source": [
    "### DATA 620\n",
    "#### Project 3   \n",
    "### [Video Presentation]()\n",
    "##### Group Four\n",
    "- Santosh Cheruku\n",
    "- Vinicio Haro\n",
    "- Javern Wilson\n",
    "- Saayed Alam  "
   ]
  },
  {
   "cell_type": "code",
   "execution_count": 1,
   "metadata": {},
   "outputs": [],
   "source": [
    "# load libraries\n",
    "import nltk\n",
    "from nltk.corpus import names\n",
    "import random"
   ]
  },
  {
   "cell_type": "markdown",
   "metadata": {},
   "source": [
    "### Introduction\n",
    "In this assignment, we will work with naive Bayes classifiers to build a name gender classifier. We will select relevant features as we go along to improve the accuracy of our classifier. Deciding on relevant features for a classifier can have an enormous impact on the classifier's ability to extract a good model."
   ]
  },
  {
   "cell_type": "code",
   "execution_count": 2,
   "metadata": {},
   "outputs": [],
   "source": [
    "# load names from nltk library\n",
    "labeled_names = ([(name, \"male\") for name in names.words(\"male.txt\")] + \n",
    "                 [(name, \"female\") for name in names.words(\"female.txt\")])\n",
    "\n",
    "# random shuffle the names\n",
    "random.shuffle(labeled_names)"
   ]
  },
  {
   "cell_type": "markdown",
   "metadata": {},
   "source": [
    "### Data Preparation\n",
    "We begin by splitting the names courpus into three subsets: 500 words for the test set, 500 words for the dev-test set, and the remaining 6900 words for the training set. The training set is used to train the model, and the dev-test set is used to perform error analysis. The test set serves in our final evaluation of the classifier."
   ]
  },
  {
   "cell_type": "code",
   "execution_count": 3,
   "metadata": {},
   "outputs": [],
   "source": [
    "# split data into three subsets\n",
    "train_names = labeled_names[1500:]\n",
    "devtest_names = labeled_names[500:1000]\n",
    "test_names = labeled_names[:500]"
   ]
  },
  {
   "cell_type": "markdown",
   "metadata": {},
   "source": [
    "Using the dev-test set, we can generate a list of the errors that the classifier makes when predicting name genders. We will build a function to generate the error list with the number of errors."
   ]
  },
  {
   "cell_type": "code",
   "execution_count": 4,
   "metadata": {},
   "outputs": [],
   "source": [
    "# define error analysis function\n",
    "def error_analysis(gender_features):\n",
    "    # error list\n",
    "    errors = []\n",
    "    # extract mislabels\n",
    "    for (name, tag) in devtest_names:\n",
    "        guess = classifier.classify(gender_features(name))\n",
    "        if guess != tag:\n",
    "            errors.append((tag, guess, name))\n",
    "    print(\"Number of Errors: \", len(errors))\n",
    "    # print the errors\n",
    "    for (tag, guess, name) in sorted(errors):\n",
    "        print('correct={:<8} guess={:<8s} name={:<30}'.format(tag, guess, name))"
   ]
  },
  {
   "cell_type": "markdown",
   "metadata": {},
   "source": [
    "### Feature Engineering\n",
    "#### Gender Feature 1\n",
    "Our first feature function is a the example from the textbook. It classifies name based on the number of English alphabets and for that reason it overfits gender features. However, we will start with this function as benchmark and add or remove features to improve our classifier."
   ]
  },
  {
   "cell_type": "code",
   "execution_count": 5,
   "metadata": {},
   "outputs": [
    {
     "name": "stdout",
     "output_type": "stream",
     "text": [
      "0.8\n"
     ]
    }
   ],
   "source": [
    "# define first version of gender features\n",
    "def gender_features1(name):\n",
    "    features = {}\n",
    "    features[\"first_letter\"] = name[0].lower()\n",
    "    features[\"last_letter\"] = name[-1].lower()\n",
    "    for letter in \"abcdefghijklmnopqrstuvwxyz\":\n",
    "        features[\"count({})\".format(letter)] = name.lower().count(letter)\n",
    "        features[\"has({})\".format(letter)] = (letter in name.lower())\n",
    "    return features\n",
    "\n",
    "# train model and print accuracy score\n",
    "train_set = [(gender_features1(n), gender) for (n, gender) in train_names]\n",
    "devtest_set = [(gender_features1(n), gender) for (n, gender) in devtest_names]\n",
    "classifier = nltk.NaiveBayesClassifier.train(train_set)\n",
    "print(nltk.classify.accuracy(classifier, devtest_set))"
   ]
  },
  {
   "cell_type": "markdown",
   "metadata": {},
   "source": [
    " As expected, our first classifier score matches the one from the textbook. We will improve it."
   ]
  },
  {
   "cell_type": "code",
   "execution_count": 6,
   "metadata": {},
   "outputs": [
    {
     "name": "stdout",
     "output_type": "stream",
     "text": [
      "Number of Errors:  100\n",
      "correct=female   guess=male     name=Barry                         \n",
      "correct=female   guess=male     name=Beatriz                       \n",
      "correct=female   guess=male     name=Cherish                       \n",
      "correct=female   guess=male     name=Chloris                       \n",
      "correct=female   guess=male     name=Clovis                        \n",
      "correct=female   guess=male     name=Corny                         \n",
      "correct=female   guess=male     name=Debor                         \n",
      "correct=female   guess=male     name=Doloritas                     \n",
      "correct=female   guess=male     name=Dorrie                        \n",
      "correct=female   guess=male     name=Farrah                        \n",
      "correct=female   guess=male     name=Farrand                       \n",
      "correct=female   guess=male     name=Fran                          \n",
      "correct=female   guess=male     name=Frances                       \n",
      "correct=female   guess=male     name=Gert                          \n",
      "correct=female   guess=male     name=Gertrud                       \n",
      "correct=female   guess=male     name=Glen                          \n",
      "correct=female   guess=male     name=Grethel                       \n",
      "correct=female   guess=male     name=Gwyneth                       \n",
      "correct=female   guess=male     name=Hannis                        \n",
      "correct=female   guess=male     name=Heath                         \n",
      "correct=female   guess=male     name=Ingeborg                      \n",
      "correct=female   guess=male     name=Ivory                         \n",
      "correct=female   guess=male     name=Jeniffer                      \n",
      "correct=female   guess=male     name=Kym                           \n",
      "correct=female   guess=male     name=Lois                          \n",
      "correct=female   guess=male     name=Meg                           \n",
      "correct=female   guess=male     name=Phyllys                       \n",
      "correct=female   guess=male     name=Pru                           \n",
      "correct=female   guess=male     name=Rhody                         \n",
      "correct=female   guess=male     name=Ros                           \n",
      "correct=female   guess=male     name=Roselyn                       \n",
      "correct=female   guess=male     name=Shannon                       \n",
      "correct=female   guess=male     name=Shawn                         \n",
      "correct=female   guess=male     name=Sheeree                       \n",
      "correct=female   guess=male     name=Shelby                        \n",
      "correct=female   guess=male     name=Tommi                         \n",
      "correct=female   guess=male     name=Veradis                       \n",
      "correct=female   guess=male     name=Wenonah                       \n",
      "correct=male     guess=female   name=Abdel                         \n",
      "correct=male     guess=female   name=Aditya                        \n",
      "correct=male     guess=female   name=Alvin                         \n",
      "correct=male     guess=female   name=Anatole                       \n",
      "correct=male     guess=female   name=Archie                        \n",
      "correct=male     guess=female   name=Augie                         \n",
      "correct=male     guess=female   name=Avery                         \n",
      "correct=male     guess=female   name=Bailie                        \n",
      "correct=male     guess=female   name=Barnie                        \n",
      "correct=male     guess=female   name=Bealle                        \n",
      "correct=male     guess=female   name=Bennett                       \n",
      "correct=male     guess=female   name=Bradley                       \n",
      "correct=male     guess=female   name=Cain                          \n",
      "correct=male     guess=female   name=Carey                         \n",
      "correct=male     guess=female   name=Chanderjit                    \n",
      "correct=male     guess=female   name=Chane                         \n",
      "correct=male     guess=female   name=Clarance                      \n",
      "correct=male     guess=female   name=Cleland                       \n",
      "correct=male     guess=female   name=Clemens                       \n",
      "correct=male     guess=female   name=Clinten                       \n",
      "correct=male     guess=female   name=Cobbie                        \n",
      "correct=male     guess=female   name=Connolly                      \n",
      "correct=male     guess=female   name=Dane                          \n",
      "correct=male     guess=female   name=Danie                         \n",
      "correct=male     guess=female   name=Devin                         \n",
      "correct=male     guess=female   name=Dominique                     \n",
      "correct=male     guess=female   name=Finley                        \n",
      "correct=male     guess=female   name=Finn                          \n",
      "correct=male     guess=female   name=Gamaliel                      \n",
      "correct=male     guess=female   name=Garcia                        \n",
      "correct=male     guess=female   name=Jaime                         \n",
      "correct=male     guess=female   name=Jedediah                      \n",
      "correct=male     guess=female   name=Johnnie                       \n",
      "correct=male     guess=female   name=Keene                         \n",
      "correct=male     guess=female   name=Ken                           \n",
      "correct=male     guess=female   name=Kenny                         \n",
      "correct=male     guess=female   name=Kyle                          \n",
      "correct=male     guess=female   name=Lancelot                      \n",
      "correct=male     guess=female   name=Laurie                        \n",
      "correct=male     guess=female   name=Lemuel                        \n",
      "correct=male     guess=female   name=Luke                          \n",
      "correct=male     guess=female   name=Lyn                           \n",
      "correct=male     guess=female   name=Marcel                        \n",
      "correct=male     guess=female   name=Marlin                        \n",
      "correct=male     guess=female   name=Marlon                        \n",
      "correct=male     guess=female   name=Martyn                        \n",
      "correct=male     guess=female   name=Nat                           \n",
      "correct=male     guess=female   name=Noe                           \n",
      "correct=male     guess=female   name=Olle                          \n",
      "correct=male     guess=female   name=Percival                      \n",
      "correct=male     guess=female   name=Radcliffe                     \n",
      "correct=male     guess=female   name=Ramsay                        \n",
      "correct=male     guess=female   name=Sean                          \n",
      "correct=male     guess=female   name=Sloane                        \n",
      "correct=male     guess=female   name=Tanney                        \n",
      "correct=male     guess=female   name=Tanny                         \n",
      "correct=male     guess=female   name=Vachel                        \n",
      "correct=male     guess=female   name=Vaclav                        \n",
      "correct=male     guess=female   name=Vance                         \n",
      "correct=male     guess=female   name=Yance                         \n",
      "correct=male     guess=female   name=Yule                          \n",
      "correct=male     guess=female   name=Zalman                        \n"
     ]
    }
   ],
   "source": [
    "# print error results\n",
    "error_analysis(gender_features1)"
   ]
  },
  {
   "cell_type": "markdown",
   "metadata": {},
   "source": [
    "#### Gender Feature 2\n",
    "As discussed in the textbook and from common knowledge the list above makes it clear that some suffixes have more than one letter that can be suggestive of name genders. For example, names ending in `ie` appear to be mislabeled. The same can be said about prefixes as well. For example, names starting with `Do` is mostly female. Also, names starting with `Je` is generally males in the error list. "
   ]
  },
  {
   "cell_type": "code",
   "execution_count": 7,
   "metadata": {},
   "outputs": [
    {
     "name": "stdout",
     "output_type": "stream",
     "text": [
      "0.808\n"
     ]
    }
   ],
   "source": [
    "# define second version of gender features\n",
    "def gender_features2(name):\n",
    "    features = {}\n",
    "    features[\"first_letter\"] = name[0].lower()\n",
    "    features[\"last_letter\"] = name[-1].lower()\n",
    "    for letter in \"abcdefghijklmnopqrstuvwxyz\":\n",
    "        features[\"count({})\".format(letter)] = name.lower().count(letter)\n",
    "        features[\"has({})\".format(letter)] = (letter in name.lower())\n",
    "    features[\"suffix2\"] = name[-2:].lower()\n",
    "    features[\"suffix3\"] = name[-3:].lower()\n",
    "    features[\"prefix3\"] = name[:3].lower()\n",
    "    return features\n",
    "\n",
    "# train model and print accuracy score\n",
    "train_set = [(gender_features2(n), gender) for (n, gender) in train_names]\n",
    "devtest_set = [(gender_features2(n), gender) for (n, gender) in devtest_names]\n",
    "classifier = nltk.NaiveBayesClassifier.train(train_set)\n",
    "print(nltk.classify.accuracy(classifier, devtest_set))"
   ]
  },
  {
   "cell_type": "markdown",
   "metadata": {},
   "source": [
    "We see good improvement in our accuracy score. The number of errors has decreased as well. Let us see if we can improve our classifier even further. "
   ]
  },
  {
   "cell_type": "code",
   "execution_count": 8,
   "metadata": {},
   "outputs": [
    {
     "name": "stdout",
     "output_type": "stream",
     "text": [
      "Number of Errors:  96\n",
      "correct=female   guess=male     name=Alexis                        \n",
      "correct=female   guess=male     name=Allsun                        \n",
      "correct=female   guess=male     name=Barry                         \n",
      "correct=female   guess=male     name=Beatriz                       \n",
      "correct=female   guess=male     name=Bill                          \n",
      "correct=female   guess=male     name=Carolan                       \n",
      "correct=female   guess=male     name=Charmian                      \n",
      "correct=female   guess=male     name=Cherish                       \n",
      "correct=female   guess=male     name=Chicky                        \n",
      "correct=female   guess=male     name=Chloris                       \n",
      "correct=female   guess=male     name=Clovis                        \n",
      "correct=female   guess=male     name=Corny                         \n",
      "correct=female   guess=male     name=Debor                         \n",
      "correct=female   guess=male     name=Doloritas                     \n",
      "correct=female   guess=male     name=Farrand                       \n",
      "correct=female   guess=male     name=Fran                          \n",
      "correct=female   guess=male     name=Frances                       \n",
      "correct=female   guess=male     name=Gert                          \n",
      "correct=female   guess=male     name=Gertrud                       \n",
      "correct=female   guess=male     name=Grethel                       \n",
      "correct=female   guess=male     name=Gwyneth                       \n",
      "correct=female   guess=male     name=Hannis                        \n",
      "correct=female   guess=male     name=Heath                         \n",
      "correct=female   guess=male     name=Ingeborg                      \n",
      "correct=female   guess=male     name=Ivory                         \n",
      "correct=female   guess=male     name=Jeniffer                      \n",
      "correct=female   guess=male     name=Jordain                       \n",
      "correct=female   guess=male     name=Kym                           \n",
      "correct=female   guess=male     name=Lois                          \n",
      "correct=female   guess=male     name=Meg                           \n",
      "correct=female   guess=male     name=Merl                          \n",
      "correct=female   guess=male     name=Michell                       \n",
      "correct=female   guess=male     name=Milicent                      \n",
      "correct=female   guess=male     name=Millisent                     \n",
      "correct=female   guess=male     name=Nell                          \n",
      "correct=female   guess=male     name=Pru                           \n",
      "correct=female   guess=male     name=Rhody                         \n",
      "correct=female   guess=male     name=Rianon                        \n",
      "correct=female   guess=male     name=Ros                           \n",
      "correct=female   guess=male     name=Shannon                       \n",
      "correct=female   guess=male     name=Sharai                        \n",
      "correct=female   guess=male     name=Shawn                         \n",
      "correct=female   guess=male     name=Shelby                        \n",
      "correct=female   guess=male     name=Sileas                        \n",
      "correct=female   guess=male     name=Veradis                       \n",
      "correct=female   guess=male     name=Wenonah                       \n",
      "correct=male     guess=female   name=Abdullah                      \n",
      "correct=male     guess=female   name=Aditya                        \n",
      "correct=male     guess=female   name=Alvin                         \n",
      "correct=male     guess=female   name=Anatole                       \n",
      "correct=male     guess=female   name=Archie                        \n",
      "correct=male     guess=female   name=Augie                         \n",
      "correct=male     guess=female   name=Bailie                        \n",
      "correct=male     guess=female   name=Barnie                        \n",
      "correct=male     guess=female   name=Bealle                        \n",
      "correct=male     guess=female   name=Cain                          \n",
      "correct=male     guess=female   name=Carey                         \n",
      "correct=male     guess=female   name=Chane                         \n",
      "correct=male     guess=female   name=Clarance                      \n",
      "correct=male     guess=female   name=Cobbie                        \n",
      "correct=male     guess=female   name=Connolly                      \n",
      "correct=male     guess=female   name=Dane                          \n",
      "correct=male     guess=female   name=Danie                         \n",
      "correct=male     guess=female   name=Dominique                     \n",
      "correct=male     guess=female   name=Finley                        \n",
      "correct=male     guess=female   name=Finn                          \n",
      "correct=male     guess=female   name=Gamaliel                      \n",
      "correct=male     guess=female   name=Garcia                        \n",
      "correct=male     guess=female   name=Jaime                         \n",
      "correct=male     guess=female   name=Jean-Christophe               \n",
      "correct=male     guess=female   name=Jedediah                      \n",
      "correct=male     guess=female   name=Jo                            \n",
      "correct=male     guess=female   name=Johnnie                       \n",
      "correct=male     guess=female   name=Jude                          \n",
      "correct=male     guess=female   name=Keene                         \n",
      "correct=male     guess=female   name=Kenny                         \n",
      "correct=male     guess=female   name=Kyle                          \n",
      "correct=male     guess=female   name=Lancelot                      \n",
      "correct=male     guess=female   name=Laurie                        \n",
      "correct=male     guess=female   name=Llewellyn                     \n",
      "correct=male     guess=female   name=Lyn                           \n",
      "correct=male     guess=female   name=Marcel                        \n",
      "correct=male     guess=female   name=Marlin                        \n",
      "correct=male     guess=female   name=Martyn                        \n",
      "correct=male     guess=female   name=Nat                           \n",
      "correct=male     guess=female   name=Noe                           \n",
      "correct=male     guess=female   name=Olle                          \n",
      "correct=male     guess=female   name=Sean                          \n",
      "correct=male     guess=female   name=Sibyl                         \n",
      "correct=male     guess=female   name=Sloane                        \n",
      "correct=male     guess=female   name=Tanney                        \n",
      "correct=male     guess=female   name=Tanny                         \n",
      "correct=male     guess=female   name=Vaclav                        \n",
      "correct=male     guess=female   name=Vance                         \n",
      "correct=male     guess=female   name=Yule                          \n",
      "correct=male     guess=female   name=Zary                          \n"
     ]
    }
   ],
   "source": [
    "# print error results\n",
    "error_analysis(gender_features2)"
   ]
  },
  {
   "cell_type": "markdown",
   "metadata": {},
   "source": [
    "#### Gender Feature 3\n",
    "For our last gender feature, we play around with few more numbers of prefixes and suffixes to yield the best accuracy score possible. We also notice `yn` is very indicative of female gender, so we implement that feature as well."
   ]
  },
  {
   "cell_type": "code",
   "execution_count": 9,
   "metadata": {},
   "outputs": [
    {
     "name": "stdout",
     "output_type": "stream",
     "text": [
      "0.834\n"
     ]
    }
   ],
   "source": [
    "# define third version of gender features\n",
    "def gender_features3(name):\n",
    "    features = {}\n",
    "    features[\"first_letter\"] = name[0].lower()\n",
    "    features[\"last_letter\"] = name[-1].lower()\n",
    "    for letter in \"abcdefghijklmnopqrstuvwxyz\":\n",
    "        features[\"count({})\".format(letter)] = name.lower().count(letter)\n",
    "        features[\"has({})\".format(letter)] = (letter in name.lower())\n",
    "    features[\"suffix2\"] = name[-2:].lower()\n",
    "    features[\"suffix3\"] = name[-3:].lower()\n",
    "    features[\"suffix4\"] = name[-4:].lower()\n",
    "    features[\"prefix3\"] = name[:3].lower()\n",
    "    features[\"prefix4\"] = name[:4].lower()\n",
    "    features[\"has_yn\"] = \"yn\" in name\n",
    "    return features\n",
    "\n",
    "# train model and print accuracy score\n",
    "train_set = [(gender_features3(n), gender) for (n, gender) in train_names]\n",
    "devtest_set = [(gender_features3(n), gender) for (n, gender) in devtest_names]\n",
    "classifier = nltk.NaiveBayesClassifier.train(train_set)\n",
    "print(nltk.classify.accuracy(classifier, devtest_set))"
   ]
  },
  {
   "cell_type": "markdown",
   "metadata": {},
   "source": [
    "The resulting score is the best yet. We will test the classifier with `gender_features3()` on our unseen data. "
   ]
  },
  {
   "cell_type": "code",
   "execution_count": 10,
   "metadata": {},
   "outputs": [
    {
     "name": "stdout",
     "output_type": "stream",
     "text": [
      "Number of Errors:  83\n",
      "correct=female   guess=male     name=Alexis                        \n",
      "correct=female   guess=male     name=Allsun                        \n",
      "correct=female   guess=male     name=Barry                         \n",
      "correct=female   guess=male     name=Beatriz                       \n",
      "correct=female   guess=male     name=Bill                          \n",
      "correct=female   guess=male     name=Chloris                       \n",
      "correct=female   guess=male     name=Clovis                        \n",
      "correct=female   guess=male     name=Corny                         \n",
      "correct=female   guess=male     name=Debor                         \n",
      "correct=female   guess=male     name=Del                           \n",
      "correct=female   guess=male     name=Doloritas                     \n",
      "correct=female   guess=male     name=Effie                         \n",
      "correct=female   guess=male     name=Farrand                       \n",
      "correct=female   guess=male     name=Fran                          \n",
      "correct=female   guess=male     name=Frances                       \n",
      "correct=female   guess=male     name=Gert                          \n",
      "correct=female   guess=male     name=Gertrud                       \n",
      "correct=female   guess=male     name=Glen                          \n",
      "correct=female   guess=male     name=Grethel                       \n",
      "correct=female   guess=male     name=Hannis                        \n",
      "correct=female   guess=male     name=Heath                         \n",
      "correct=female   guess=male     name=Isadore                       \n",
      "correct=female   guess=male     name=Ivory                         \n",
      "correct=female   guess=male     name=Jeniffer                      \n",
      "correct=female   guess=male     name=Jordain                       \n",
      "correct=female   guess=male     name=Kym                           \n",
      "correct=female   guess=male     name=Lesley                        \n",
      "correct=female   guess=male     name=Lois                          \n",
      "correct=female   guess=male     name=Meg                           \n",
      "correct=female   guess=male     name=Merl                          \n",
      "correct=female   guess=male     name=Michell                       \n",
      "correct=female   guess=male     name=Patty                         \n",
      "correct=female   guess=male     name=Pru                           \n",
      "correct=female   guess=male     name=Rhody                         \n",
      "correct=female   guess=male     name=Ros                           \n",
      "correct=female   guess=male     name=Shannon                       \n",
      "correct=female   guess=male     name=Shawn                         \n",
      "correct=female   guess=male     name=Shelby                        \n",
      "correct=female   guess=male     name=Sileas                        \n",
      "correct=female   guess=male     name=Veradis                       \n",
      "correct=female   guess=male     name=Wenonah                       \n",
      "correct=male     guess=female   name=Abdullah                      \n",
      "correct=male     guess=female   name=Aditya                        \n",
      "correct=male     guess=female   name=Anatole                       \n",
      "correct=male     guess=female   name=Bailie                        \n",
      "correct=male     guess=female   name=Bealle                        \n",
      "correct=male     guess=female   name=Cain                          \n",
      "correct=male     guess=female   name=Carey                         \n",
      "correct=male     guess=female   name=Chane                         \n",
      "correct=male     guess=female   name=Clarance                      \n",
      "correct=male     guess=female   name=Cobbie                        \n",
      "correct=male     guess=female   name=Cody                          \n",
      "correct=male     guess=female   name=Connolly                      \n",
      "correct=male     guess=female   name=Dane                          \n",
      "correct=male     guess=female   name=Danie                         \n",
      "correct=male     guess=female   name=Dominique                     \n",
      "correct=male     guess=female   name=Finley                        \n",
      "correct=male     guess=female   name=Finn                          \n",
      "correct=male     guess=female   name=Gamaliel                      \n",
      "correct=male     guess=female   name=Garcia                        \n",
      "correct=male     guess=female   name=Jaime                         \n",
      "correct=male     guess=female   name=Jean-Christophe               \n",
      "correct=male     guess=female   name=Jo                            \n",
      "correct=male     guess=female   name=Johnnie                       \n",
      "correct=male     guess=female   name=Jude                          \n",
      "correct=male     guess=female   name=Keene                         \n",
      "correct=male     guess=female   name=Kris                          \n",
      "correct=male     guess=female   name=Kyle                          \n",
      "correct=male     guess=female   name=Laurie                        \n",
      "correct=male     guess=female   name=Llewellyn                     \n",
      "correct=male     guess=female   name=Lyn                           \n",
      "correct=male     guess=female   name=Marcel                        \n",
      "correct=male     guess=female   name=Marlin                        \n",
      "correct=male     guess=female   name=Martyn                        \n",
      "correct=male     guess=female   name=Nat                           \n",
      "correct=male     guess=female   name=Noe                           \n",
      "correct=male     guess=female   name=Olle                          \n",
      "correct=male     guess=female   name=Sean                          \n",
      "correct=male     guess=female   name=Sibyl                         \n",
      "correct=male     guess=female   name=Sloane                        \n",
      "correct=male     guess=female   name=Tanney                        \n",
      "correct=male     guess=female   name=Vaclav                        \n",
      "correct=male     guess=female   name=Vance                         \n"
     ]
    }
   ],
   "source": [
    "# print error results\n",
    "error_analysis(gender_features3)"
   ]
  },
  {
   "cell_type": "code",
   "execution_count": 13,
   "metadata": {},
   "outputs": [
    {
     "name": "stdout",
     "output_type": "stream",
     "text": [
      "0.836\n"
     ]
    }
   ],
   "source": [
    "# final performance test\n",
    "test_set = [(gender_features3(n), gender) for (n, gender) in test_names]\n",
    "print(nltk.classify.accuracy(classifier, test_set))"
   ]
  },
  {
   "cell_type": "markdown",
   "metadata": {},
   "source": [
    "### Conclusion\n",
    "The performance on the test set is 1% better than the performance on the dev-test set. We did not expect so much improvement. By random chance, the test set has names that adheres to our gender features more than the dev-test set."
   ]
  }
 ],
 "metadata": {
  "kernelspec": {
   "display_name": "Python 3",
   "language": "python",
   "name": "python3"
  },
  "language_info": {
   "codemirror_mode": {
    "name": "ipython",
    "version": 3
   },
   "file_extension": ".py",
   "mimetype": "text/x-python",
   "name": "python",
   "nbconvert_exporter": "python",
   "pygments_lexer": "ipython3",
   "version": "3.6.3"
  }
 },
 "nbformat": 4,
 "nbformat_minor": 2
}