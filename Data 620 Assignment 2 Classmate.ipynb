{
 "cells": [
  {
   "cell_type": "markdown",
   "metadata": {},
   "source": [
    "Saayed Alam  \n",
    "Week 2 Part 1 Assignment: Graph Visualization   \n",
    "DATA 620"
   ]
  },
  {
   "cell_type": "code",
   "execution_count": 32,
   "metadata": {},
   "outputs": [],
   "source": [
    "# load libraries\n",
    "import pandas as pd\n",
    "import networkx as nx\n",
    "import matplotlib.pyplot as plt\n",
    "from collections import Counter"
   ]
  },
  {
   "cell_type": "markdown",
   "metadata": {},
   "source": [
    "We load twitter dataset from [Stanford Large Network Dataset Collection](https://snap.stanford.edu/data/) consisting of 1.7 million twitter's list edges where node 1 follows node 2. We parse through the file using pandas library and load the dataset. "
   ]
  },
  {
   "cell_type": "code",
   "execution_count": 33,
   "metadata": {},
   "outputs": [],
   "source": [
    "# load data\n",
    "twitter_df = pd.read_csv(\"https://github.com/saayedalam/Data/raw/master/twitter_combined.txt.gz\",\n",
    "                          compression = \"gzip\", sep = \" \", header = None)"
   ]
  },
  {
   "cell_type": "markdown",
   "metadata": {},
   "source": [
    "We sepearte the nodes and rename the columns. We also create a new column called *edges* using arbitrary sequential numbers. Next we subset the dataset where we select only the top 3 followed twitter lists and all the nodes that follow them with their respective edges."
   ]
  },
  {
   "cell_type": "code",
   "execution_count": 34,
   "metadata": {},
   "outputs": [
    {
     "data": {
      "text/html": [
       "<div>\n",
       "<style>\n",
       "    .dataframe thead tr:only-child th {\n",
       "        text-align: right;\n",
       "    }\n",
       "\n",
       "    .dataframe thead th {\n",
       "        text-align: left;\n",
       "    }\n",
       "\n",
       "    .dataframe tbody tr th {\n",
       "        vertical-align: top;\n",
       "    }\n",
       "</style>\n",
       "<table border=\"1\" class=\"dataframe\">\n",
       "  <thead>\n",
       "    <tr style=\"text-align: right;\">\n",
       "      <th></th>\n",
       "      <th>Nodes 1</th>\n",
       "      <th>Nodes 2</th>\n",
       "      <th>Edges</th>\n",
       "    </tr>\n",
       "  </thead>\n",
       "  <tbody>\n",
       "    <tr>\n",
       "      <th>45</th>\n",
       "      <td>324201646</td>\n",
       "      <td>40981798</td>\n",
       "      <td>46</td>\n",
       "    </tr>\n",
       "    <tr>\n",
       "      <th>61</th>\n",
       "      <td>107511013</td>\n",
       "      <td>22462180</td>\n",
       "      <td>62</td>\n",
       "    </tr>\n",
       "    <tr>\n",
       "      <th>77</th>\n",
       "      <td>35148062</td>\n",
       "      <td>43003845</td>\n",
       "      <td>78</td>\n",
       "    </tr>\n",
       "    <tr>\n",
       "      <th>80</th>\n",
       "      <td>57490887</td>\n",
       "      <td>40981798</td>\n",
       "      <td>81</td>\n",
       "    </tr>\n",
       "    <tr>\n",
       "      <th>98</th>\n",
       "      <td>221036078</td>\n",
       "      <td>22462180</td>\n",
       "      <td>99</td>\n",
       "    </tr>\n",
       "    <tr>\n",
       "      <th>130</th>\n",
       "      <td>6581292</td>\n",
       "      <td>40981798</td>\n",
       "      <td>131</td>\n",
       "    </tr>\n",
       "    <tr>\n",
       "      <th>132</th>\n",
       "      <td>116498875</td>\n",
       "      <td>22462180</td>\n",
       "      <td>133</td>\n",
       "    </tr>\n",
       "    <tr>\n",
       "      <th>149</th>\n",
       "      <td>292598082</td>\n",
       "      <td>22462180</td>\n",
       "      <td>150</td>\n",
       "    </tr>\n",
       "    <tr>\n",
       "      <th>156</th>\n",
       "      <td>163238842</td>\n",
       "      <td>43003845</td>\n",
       "      <td>157</td>\n",
       "    </tr>\n",
       "    <tr>\n",
       "      <th>170</th>\n",
       "      <td>260769396</td>\n",
       "      <td>22462180</td>\n",
       "      <td>171</td>\n",
       "    </tr>\n",
       "  </tbody>\n",
       "</table>\n",
       "</div>"
      ],
      "text/plain": [
       "       Nodes 1   Nodes 2 Edges\n",
       "45   324201646  40981798    46\n",
       "61   107511013  22462180    62\n",
       "77    35148062  43003845    78\n",
       "80    57490887  40981798    81\n",
       "98   221036078  22462180    99\n",
       "130    6581292  40981798   131\n",
       "132  116498875  22462180   133\n",
       "149  292598082  22462180   150\n",
       "156  163238842  43003845   157\n",
       "170  260769396  22462180   171"
      ]
     },
     "execution_count": 34,
     "metadata": {},
     "output_type": "execute_result"
    }
   ],
   "source": [
    "# create and name 3 columns - nodes 1, nodes 2, edges\n",
    "twitter_df.rename(columns = {0: \"Nodes 1\", 1: \"Nodes 2\"}, inplace = True)\n",
    "twitter_df['Edges'] = range(1, len(twitter_df) + 1)\n",
    "twitter_df['Edges'] = twitter_df['Edges'].astype(str)\n",
    "\n",
    "# create a subset from the dataset\n",
    "top_unique = dict(Counter(twitter_df[\"Nodes 2\"]).most_common(3)).keys()\n",
    "twitter_subset = twitter_df.loc[twitter_df[\"Nodes 2\"].isin(list(top_unique))]\n",
    "twitter_subset.head(10)"
   ]
  },
  {
   "cell_type": "markdown",
   "metadata": {},
   "source": [
    "Next we print basic info about the network graph. We also with the help of fucntions from networkx library analyze the twitter dataset using various metrics."
   ]
  },
  {
   "cell_type": "code",
   "execution_count": 35,
   "metadata": {},
   "outputs": [
    {
     "name": "stdout",
     "output_type": "stream",
     "text": [
      "Name: \n",
      "Type: Graph\n",
      "Number of nodes: 3344\n",
      "Number of edges: 8419\n",
      "Average degree:   5.0353\n"
     ]
    }
   ],
   "source": [
    "# load dataframe and draw the graph\n",
    "G = nx.from_pandas_dataframe(twitter_subset, \"Nodes 1\", \"Nodes 2\", edge_attr = \"Edges\")\n",
    "print(nx.info(G))"
   ]
  },
  {
   "cell_type": "markdown",
   "metadata": {},
   "source": [
    "* The *graph's diameter* is `3`. A graph's diameter is the largest number of lists that must be traversed in order to travel from one list to another.  \n",
    "* A *degree centrality* is simply the number of followers a list has. The most followed list has `3216` followers. \n",
    "* The *closeness centrality* is the distance of nodes from one another others. This metric is for finding the lists who are best placed to influence the entire network most quickly. The list `43003845` is best placed to influence the entire network most quickly. \n",
    "* The *betweenness centrality* is for finding the node who influence the flow around a system. The list `43003845` is the top influencer. "
   ]
  },
  {
   "cell_type": "code",
   "execution_count": 36,
   "metadata": {},
   "outputs": [
    {
     "name": "stdout",
     "output_type": "stream",
     "text": [
      "3\n"
     ]
    }
   ],
   "source": [
    "# graph's diameter\n",
    "print(nx.diameter(G))"
   ]
  },
  {
   "cell_type": "code",
   "execution_count": 37,
   "metadata": {},
   "outputs": [
    {
     "data": {
      "text/plain": [
       "3216"
      ]
     },
     "execution_count": 37,
     "metadata": {},
     "output_type": "execute_result"
    }
   ],
   "source": [
    "# degree centrality\n",
    "deg = nx.degree(G)\n",
    "max(dict(deg).values())"
   ]
  },
  {
   "cell_type": "code",
   "execution_count": 38,
   "metadata": {},
   "outputs": [
    {
     "name": "stdout",
     "output_type": "stream",
     "text": [
      "[43003845, 22462180, 324201646, 107511013, 57490887, 221036078, 6581292, 116498875, 292598082]\n"
     ]
    }
   ],
   "source": [
    "# closeness centrality\n",
    "close = nx.closeness_centrality(G)\n",
    "close = sorted(close.items(), key = lambda kv: kv[1], reverse = True)\n",
    "print(list(dict(close).keys())[1:10])"
   ]
  },
  {
   "cell_type": "code",
   "execution_count": 30,
   "metadata": {},
   "outputs": [
    {
     "name": "stdout",
     "output_type": "stream",
     "text": [
      "[43003845, 22462180]\n"
     ]
    }
   ],
   "source": [
    "# betweenness centrality\n",
    "bet = nx.betweenness_centrality(G)\n",
    "bet = sorted(bet.items(), key = lambda kv: kv[1], reverse = True)\n",
    "print(list(dict(bet).keys())[0:3])"
   ]
  },
  {
   "cell_type": "markdown",
   "metadata": {},
   "source": [
    "Finally, we visualize the graph and some of its metrics. "
   ]
  },
  {
   "cell_type": "code",
   "execution_count": 31,
   "metadata": {},
   "outputs": [
    {
     "data": {
      "image/png": "[encoded data removed]",
      "text/plain": [
       "<matplotlib.figure.Figure at 0x202df6139e8>"
      ]
     },
     "metadata": {},
     "output_type": "display_data"
    }
   ],
   "source": [
    "# visualize the graph\n",
    "nx.draw(G, pos = nx.spring_layout(G))"
   ]
  },
  {
   "cell_type": "code",
   "execution_count": 54,
   "metadata": {},
   "outputs": [
    {
     "data": {
      "image/png": "[encoded data removed]",
      "text/plain": [
       "<matplotlib.figure.Figure at 0x202ebf9b940>"
      ]
     },
     "metadata": {
      "needs_background": "light"
     },
     "output_type": "display_data"
    }
   ],
   "source": [
    "# visualize degree centrality\n",
    "plt.hist(dict(deg).values(), 100) \n",
    "plt.show()"
   ]
  }
 ],
 "metadata": {
  "kernelspec": {
   "display_name": "Python 3",
   "language": "python",
   "name": "python3"
  },
  "language_info": {
   "codemirror_mode": {
    "name": "ipython",
    "version": 3
   },
   "file_extension": ".py",
   "mimetype": "text/x-python",
   "name": "python",
   "nbconvert_exporter": "python",
   "pygments_lexer": "ipython3",
   "version": "3.6.3"
  }
 },
 "nbformat": 4,
 "nbformat_minor": 2
}