{
 "cells": [
  {
   "cell_type": "markdown",
   "metadata": {},
   "source": [
    "### DATA 620\n",
    "#### Project 3   \n",
    "### [Video Presentation]()\n",
    "##### Group Four\n",
    "- Santosh Cheruku\n",
    "- Vinicio Haro\n",
    "- Javern Wilson\n",
    "- Saayed Alam  "
   ]
  },
  {
   "cell_type": "code",
   "execution_count": 21,
   "metadata": {},
   "outputs": [],
   "source": [
    "# load libraries\n",
    "import nltk\n",
    "from nltk.corpus import names\n",
    "import random"
   ]
  },
  {
   "cell_type": "markdown",
   "metadata": {},
   "source": [
    "### Introduction\n",
    "In this assignment, we will work with naive Bayes classifiers to build a name gender classifier. We will select relevant features as we go along to improve the accuracy of our classifier. Deciding on relevant features for a classifier can have an enormous impact on the classifier's ability to extract a good model."
   ]
  },
  {
   "cell_type": "code",
   "execution_count": 6,
   "metadata": {},
   "outputs": [],
   "source": [
    "# load names from nltk library\n",
    "labeled_names = ([(name, \"male\") for name in names.words(\"male.txt\")] + \n",
    "                 [(name, \"female\") for name in names.words(\"female.txt\")])\n",
    "\n",
    "# random shuffle the names\n",
    "random.shuffle(labeled_names)"
   ]
  },
  {
   "cell_type": "markdown",
   "metadata": {},
   "source": [
    "### Data Preparation\n",
    "We begin by splitting the names courpus into three subsets: 500 words for the test set, 500 words for the dev-test set, and the remaining 6900 words for the training set. The training set is used to train the model, and the dev-test set is used to perform error analysis. The test set serves in our final evaluation of the classifier."
   ]
  },
  {
   "cell_type": "code",
   "execution_count": 49,
   "metadata": {},
   "outputs": [],
   "source": [
    "# split data into three subsets\n",
    "train_names = labeled_names[1500:]\n",
    "devtest_names = labeled_names[500:1000]\n",
    "test_names = labeled_names[:500]"
   ]
  },
  {
   "cell_type": "markdown",
   "metadata": {},
   "source": [
    "Using the dev-test set, we can generate a list of the errors that the classifier makes when predicting name genders. We will build a function to generate the error list with the number of errors."
   ]
  },
  {
   "cell_type": "code",
   "execution_count": 62,
   "metadata": {},
   "outputs": [],
   "source": [
    "# define error analysis function\n",
    "def error_analysis(gender_features):\n",
    "    # error list\n",
    "    errors = []\n",
    "    # extract mislabels\n",
    "    for (name, tag) in devtest_names:\n",
    "        guess = classifier.classify(gender_features(name))\n",
    "        if guess != tag:\n",
    "            errors.append((tag, guess, name))\n",
    "    print(\"Number of Errors: \", len(errors))\n",
    "    # print the errors\n",
    "    for (tag, guess, name) in sorted(errors):\n",
    "        print('correct={:<8} guess={:<8s} name={:<30}'.format(tag, guess, name))"
   ]
  },
  {
   "cell_type": "markdown",
   "metadata": {},
   "source": [
    "### Feature Engineering\n",
    "#### Gender Feature 1\n",
    "Our first feature function is a the example from the textbook. It classifies name based on the number of English alphabets and for that reason it overfits gender features. However, we will start with this function as benchmark and add or remove features to improve our classifier."
   ]
  },
  {
   "cell_type": "code",
   "execution_count": 55,
   "metadata": {},
   "outputs": [],
   "source": [
    "# define first version of gender features\n",
    "def gender_features1(name):\n",
    "    features = {}\n",
    "    features[\"first_letter\"] = name[0].lower()\n",
    "    features[\"last_letter\"] = name[-1].lower()\n",
    "    for letter in \"abcdefghijklmnopqrstuvwxyz\":\n",
    "        features[\"count({})\".format(letter)] = name.lower().count(letter)\n",
    "        features[\"has({})\".format(letter)] = (letter in name.lower())\n",
    "    return features\n",
    "\n",
    "# train model and print accuracy score\n",
    "train_set = [(gender_features1(n), gender) for (n, gender) in train_names]\n",
    "devtest_set = [(gender_features1(n), gender) for (n, gender) in devtest_names]\n",
    "classifier = nltk.NaiveBayesClassifier.train(train_set)\n",
    "print(nltk.classify.accuracy(classifier, devtest_set))"
   ]
  },
  {
   "cell_type": "markdown",
   "metadata": {},
   "source": [
    " As expected, our first classifier score matches the one from the textbook. We will improve it."
   ]
  },
  {
   "cell_type": "code",
   "execution_count": 65,
   "metadata": {},
   "outputs": [
    {
     "name": "stdout",
     "output_type": "stream",
     "text": [
      "Number of Errors:  115\n",
      "correct=female   guess=male     name=Audre                         \n",
      "correct=female   guess=male     name=Austin                        \n",
      "correct=female   guess=male     name=Bev                           \n",
      "correct=female   guess=male     name=Brooke                        \n",
      "correct=female   guess=male     name=Chad                          \n",
      "correct=female   guess=male     name=Coreen                        \n",
      "correct=female   guess=male     name=Deb                           \n",
      "correct=female   guess=male     name=Dix                           \n",
      "correct=female   guess=male     name=Dody                          \n",
      "correct=female   guess=male     name=Dorice                        \n",
      "correct=female   guess=male     name=Dorrie                        \n",
      "correct=female   guess=male     name=Edy                           \n",
      "correct=female   guess=male     name=Elspeth                       \n",
      "correct=female   guess=male     name=Ethyl                         \n",
      "correct=female   guess=male     name=Fallon                        \n",
      "correct=female   guess=male     name=Felicdad                      \n",
      "correct=female   guess=male     name=Florrie                       \n",
      "correct=female   guess=male     name=Flory                         \n",
      "correct=female   guess=male     name=Frank                         \n",
      "correct=female   guess=male     name=Georgette                     \n",
      "correct=female   guess=male     name=Grete                         \n",
      "correct=female   guess=male     name=Gussie                        \n",
      "correct=female   guess=male     name=Hephzibah                     \n",
      "correct=female   guess=male     name=Hermione                      \n",
      "correct=female   guess=male     name=Holly                         \n",
      "correct=female   guess=male     name=Ingrid                        \n",
      "correct=female   guess=male     name=Ivett                         \n",
      "correct=female   guess=male     name=Josselyn                      \n",
      "correct=female   guess=male     name=Joyan                         \n",
      "correct=female   guess=male     name=Kim                           \n",
      "correct=female   guess=male     name=Kipp                          \n",
      "correct=female   guess=male     name=Kore                          \n",
      "correct=female   guess=male     name=Korney                        \n",
      "correct=female   guess=male     name=Margo                         \n",
      "correct=female   guess=male     name=Maud                          \n",
      "correct=female   guess=male     name=Mommy                         \n",
      "correct=female   guess=male     name=Nariko                        \n",
      "correct=female   guess=male     name=Nert                          \n",
      "correct=female   guess=male     name=Oprah                         \n",
      "correct=female   guess=male     name=Penny                         \n",
      "correct=female   guess=male     name=Polly                         \n",
      "correct=female   guess=male     name=Prue                          \n",
      "correct=female   guess=male     name=Raf                           \n",
      "correct=female   guess=male     name=Ragnhild                      \n",
      "correct=female   guess=male     name=Rosalyn                       \n",
      "correct=female   guess=male     name=Rosario                       \n",
      "correct=female   guess=male     name=Roz                           \n",
      "correct=female   guess=male     name=Scarlett                      \n",
      "correct=female   guess=male     name=Shawn                         \n",
      "correct=female   guess=male     name=Sherry                        \n",
      "correct=female   guess=male     name=Siobhan                       \n",
      "correct=female   guess=male     name=Sunny                         \n",
      "correct=female   guess=male     name=Tobye                         \n",
      "correct=female   guess=male     name=Trix                          \n",
      "correct=female   guess=male     name=Willette                      \n",
      "correct=female   guess=male     name=Willi                         \n",
      "correct=female   guess=male     name=Wilmette                      \n",
      "correct=female   guess=male     name=Wren                          \n",
      "correct=female   guess=male     name=Zoe                           \n",
      "correct=male     guess=female   name=Alvin                         \n",
      "correct=male     guess=female   name=Andrea                        \n",
      "correct=male     guess=female   name=Andrey                        \n",
      "correct=male     guess=female   name=Antoine                       \n",
      "correct=male     guess=female   name=Augie                         \n",
      "correct=male     guess=female   name=Bailie                        \n",
      "correct=male     guess=female   name=Bartolomei                    \n",
      "correct=male     guess=female   name=Bernie                        \n",
      "correct=male     guess=female   name=Christie                      \n",
      "correct=male     guess=female   name=Clarence                      \n",
      "correct=male     guess=female   name=Cy                            \n",
      "correct=male     guess=female   name=Dabney                        \n",
      "correct=male     guess=female   name=Dana                          \n",
      "correct=male     guess=female   name=Emmanuel                      \n",
      "correct=male     guess=female   name=Felice                        \n",
      "correct=male     guess=female   name=Gabriell                      \n",
      "correct=male     guess=female   name=Georgie                       \n",
      "correct=male     guess=female   name=Geri                          \n",
      "correct=male     guess=female   name=Gian                          \n",
      "correct=male     guess=female   name=Grace                         \n",
      "correct=male     guess=female   name=Graehme                       \n",
      "correct=male     guess=female   name=Henrie                        \n",
      "correct=male     guess=female   name=Jeffie                        \n",
      "correct=male     guess=female   name=Jere                          \n",
      "correct=male     guess=female   name=Jeremy                        \n",
      "correct=male     guess=female   name=Johnnie                       \n",
      "correct=male     guess=female   name=Kalvin                        \n",
      "correct=male     guess=female   name=Keene                         \n",
      "correct=male     guess=female   name=Keil                          \n",
      "correct=male     guess=female   name=Kenny                         \n",
      "correct=male     guess=female   name=Larry                         \n",
      "correct=male     guess=female   name=Laurance                      \n",
      "correct=male     guess=female   name=Lay                           \n",
      "correct=male     guess=female   name=Lemmie                        \n",
      "correct=male     guess=female   name=Leslie                        \n",
      "correct=male     guess=female   name=Lonny                         \n",
      "correct=male     guess=female   name=Maddy                         \n",
      "correct=male     guess=female   name=Manish                        \n",
      "correct=male     guess=female   name=Maurie                        \n",
      "correct=male     guess=female   name=Merrel                        \n",
      "correct=male     guess=female   name=Michail                       \n",
      "correct=male     guess=female   name=Mortie                        \n",
      "correct=male     guess=female   name=Nickolas                      \n",
      "correct=male     guess=female   name=Niki                          \n",
      "correct=male     guess=female   name=Nilson                        \n",
      "correct=male     guess=female   name=Page                          \n",
      "correct=male     guess=female   name=Raleigh                       \n",
      "correct=male     guess=female   name=Randall                       \n",
      "correct=male     guess=female   name=Randy                         \n",
      "correct=male     guess=female   name=See                           \n",
      "correct=male     guess=female   name=Sidnee                        \n",
      "correct=male     guess=female   name=Tonnie                        \n",
      "correct=male     guess=female   name=Vassily                       \n",
      "correct=male     guess=female   name=Vinnie                        \n",
      "correct=male     guess=female   name=Vite                          \n",
      "correct=male     guess=female   name=Vladamir                      \n"
     ]
    },
    {
     "data": {
      "text/plain": [
       "NoneType"
      ]
     },
     "execution_count": 65,
     "metadata": {},
     "output_type": "execute_result"
    }
   ],
   "source": [
    "# print error results\n",
    "error_analysis(gender_features1)"
   ]
  },
  {
   "cell_type": "markdown",
   "metadata": {},
   "source": [
    "#### Gender Feature 2\n",
    "As discussed in the textbook and from common knowledge the list above makes it clear that some suffixes have more than one letter that can be suggestive of name genders. For example, names ending in `ie` appear to be mislabeled. The same can be said about prefixes as well. For example, names starting with `Do` is mostly female. Also, names starting with `Je` is generally males in the error list. "
   ]
  },
  {
   "cell_type": "code",
   "execution_count": 69,
   "metadata": {},
   "outputs": [
    {
     "name": "stdout",
     "output_type": "stream",
     "text": [
      "0.822\n"
     ]
    }
   ],
   "source": [
    "# define second version of gender features\n",
    "def gender_features2(name):\n",
    "    features = {}\n",
    "    features[\"first_letter\"] = name[0].lower()\n",
    "    features[\"last_letter\"] = name[-1].lower()\n",
    "    for letter in \"abcdefghijklmnopqrstuvwxyz\":\n",
    "        features[\"count({})\".format(letter)] = name.lower().count(letter)\n",
    "        features[\"has({})\".format(letter)] = (letter in name.lower())\n",
    "    features[\"suffix2\"] = name[-2:].lower()\n",
    "    features[\"suffix3\"] = name[-3:].lower()\n",
    "    features[\"prefix3\"] = name[:3].lower()\n",
    "    return features\n",
    "\n",
    "# train model and print accuracy score\n",
    "train_set = [(gender_features2(n), gender) for (n, gender) in train_names]\n",
    "devtest_set = [(gender_features2(n), gender) for (n, gender) in devtest_names]\n",
    "classifier = nltk.NaiveBayesClassifier.train(train_set)\n",
    "print(nltk.classify.accuracy(classifier, devtest_set))"
   ]
  },
  {
   "cell_type": "markdown",
   "metadata": {},
   "source": [
    "We see good improvement in our accuracy score. The number of errors has decreased as well. Let us see if we can improve our classifier even further. "
   ]
  },
  {
   "cell_type": "code",
   "execution_count": 71,
   "metadata": {},
   "outputs": [
    {
     "name": "stdout",
     "output_type": "stream",
     "text": [
      "Number of Errors:  89\n",
      "correct=female   guess=male     name=Adah                          \n",
      "correct=female   guess=male     name=Austin                        \n",
      "correct=female   guess=male     name=Bev                           \n",
      "correct=female   guess=male     name=Brooke                        \n",
      "correct=female   guess=male     name=Chad                          \n",
      "correct=female   guess=male     name=Charmian                      \n",
      "correct=female   guess=male     name=Chloe                         \n",
      "correct=female   guess=male     name=Damaris                       \n",
      "correct=female   guess=male     name=Deb                           \n",
      "correct=female   guess=male     name=Dix                           \n",
      "correct=female   guess=male     name=Dody                          \n",
      "correct=female   guess=male     name=Eran                          \n",
      "correct=female   guess=male     name=Fallon                        \n",
      "correct=female   guess=male     name=Felicdad                      \n",
      "correct=female   guess=male     name=Flory                         \n",
      "correct=female   guess=male     name=Frank                         \n",
      "correct=female   guess=male     name=Friederike                    \n",
      "correct=female   guess=male     name=Hephzibah                     \n",
      "correct=female   guess=male     name=Hermione                      \n",
      "correct=female   guess=male     name=Holly                         \n",
      "correct=female   guess=male     name=Ingrid                        \n",
      "correct=female   guess=male     name=Ivett                         \n",
      "correct=female   guess=male     name=Kerstin                       \n",
      "correct=female   guess=male     name=Kim                           \n",
      "correct=female   guess=male     name=Kipp                          \n",
      "correct=female   guess=male     name=Margo                         \n",
      "correct=female   guess=male     name=Maud                          \n",
      "correct=female   guess=male     name=Mommy                         \n",
      "correct=female   guess=male     name=Murial                        \n",
      "correct=female   guess=male     name=Nert                          \n",
      "correct=female   guess=male     name=Oprah                         \n",
      "correct=female   guess=male     name=Penny                         \n",
      "correct=female   guess=male     name=Polly                         \n",
      "correct=female   guess=male     name=Prue                          \n",
      "correct=female   guess=male     name=Raf                           \n",
      "correct=female   guess=male     name=Ragnhild                      \n",
      "correct=female   guess=male     name=Riannon                       \n",
      "correct=female   guess=male     name=Rosario                       \n",
      "correct=female   guess=male     name=Roz                           \n",
      "correct=female   guess=male     name=Scarlett                      \n",
      "correct=female   guess=male     name=Shawn                         \n",
      "correct=female   guess=male     name=Sherry                        \n",
      "correct=female   guess=male     name=Siobhan                       \n",
      "correct=female   guess=male     name=Sunny                         \n",
      "correct=female   guess=male     name=Tobye                         \n",
      "correct=female   guess=male     name=Tracey                        \n",
      "correct=female   guess=male     name=Valery                        \n",
      "correct=female   guess=male     name=Wren                          \n",
      "correct=female   guess=male     name=Zoe                           \n",
      "correct=male     guess=female   name=Alvin                         \n",
      "correct=male     guess=female   name=Andrea                        \n",
      "correct=male     guess=female   name=Andrey                        \n",
      "correct=male     guess=female   name=Antoine                       \n",
      "correct=male     guess=female   name=Augie                         \n",
      "correct=male     guess=female   name=Bailie                        \n",
      "correct=male     guess=female   name=Bernie                        \n",
      "correct=male     guess=female   name=Christie                      \n",
      "correct=male     guess=female   name=Clarence                      \n",
      "correct=male     guess=female   name=Dabney                        \n",
      "correct=male     guess=female   name=Dana                          \n",
      "correct=male     guess=female   name=Felice                        \n",
      "correct=male     guess=female   name=Gabriell                      \n",
      "correct=male     guess=female   name=Georgie                       \n",
      "correct=male     guess=female   name=Geri                          \n",
      "correct=male     guess=female   name=Henrie                        \n",
      "correct=male     guess=female   name=Jere                          \n",
      "correct=male     guess=female   name=Johnnie                       \n",
      "correct=male     guess=female   name=Keene                         \n",
      "correct=male     guess=female   name=Keil                          \n",
      "correct=male     guess=female   name=Kenny                         \n",
      "correct=male     guess=female   name=Larry                         \n",
      "correct=male     guess=female   name=Laurance                      \n",
      "correct=male     guess=female   name=Lemmie                        \n",
      "correct=male     guess=female   name=Leslie                        \n",
      "correct=male     guess=female   name=Lonny                         \n",
      "correct=male     guess=female   name=Maddy                         \n",
      "correct=male     guess=female   name=Maurie                        \n",
      "correct=male     guess=female   name=Michail                       \n",
      "correct=male     guess=female   name=Mortie                        \n",
      "correct=male     guess=female   name=Niki                          \n",
      "correct=male     guess=female   name=Page                          \n",
      "correct=male     guess=female   name=Randy                         \n",
      "correct=male     guess=female   name=See                           \n",
      "correct=male     guess=female   name=Sidnee                        \n",
      "correct=male     guess=female   name=Tonnie                        \n",
      "correct=male     guess=female   name=Vassily                       \n",
      "correct=male     guess=female   name=Vinnie                        \n",
      "correct=male     guess=female   name=Vite                          \n",
      "correct=male     guess=female   name=Wylie                         \n"
     ]
    }
   ],
   "source": [
    "# print error results\n",
    "error_analysis(gender_features2)"
   ]
  },
  {
   "cell_type": "markdown",
   "metadata": {},
   "source": [
    "#### Gender Feature 3\n",
    "For our last gender feature, we play around with few more numbers of prefixes and suffixes to yield the best accuracy score possible. We also notice `yn` is very indicative of female gender, so we implement that feature as well."
   ]
  },
  {
   "cell_type": "code",
   "execution_count": 102,
   "metadata": {},
   "outputs": [
    {
     "name": "stdout",
     "output_type": "stream",
     "text": [
      "0.824\n"
     ]
    }
   ],
   "source": [
    "# define third version of gender features\n",
    "def gender_features3(name):\n",
    "    features = {}\n",
    "    features[\"first_letter\"] = name[0].lower()\n",
    "    features[\"last_letter\"] = name[-1].lower()\n",
    "    for letter in \"abcdefghijklmnopqrstuvwxyz\":\n",
    "        features[\"count({})\".format(letter)] = name.lower().count(letter)\n",
    "        features[\"has({})\".format(letter)] = (letter in name.lower())\n",
    "    features[\"suffix2\"] = name[-2:].lower()\n",
    "    features[\"suffix3\"] = name[-3:].lower()\n",
    "    features[\"suffix4\"] = name[-4:].lower()\n",
    "    features[\"prefix3\"] = name[:3].lower()\n",
    "    features[\"prefix4\"] = name[:4].lower()\n",
    "    features[\"has_yn\"] = \"yn\" in name\n",
    "    return features\n",
    "\n",
    "# train model and print accuracy score\n",
    "train_set = [(gender_features3(n), gender) for (n, gender) in train_names]\n",
    "devtest_set = [(gender_features3(n), gender) for (n, gender) in devtest_names]\n",
    "classifier = nltk.NaiveBayesClassifier.train(train_set)\n",
    "print(nltk.classify.accuracy(classifier, devtest_set))"
   ]
  },
  {
   "cell_type": "markdown",
   "metadata": {},
   "source": [
    "The resulting score is the best yet. We will test the classifier with `gender_features3()` on our unseen data. "
   ]
  },
  {
   "cell_type": "code",
   "execution_count": 101,
   "metadata": {},
   "outputs": [
    {
     "name": "stdout",
     "output_type": "stream",
     "text": [
      "Number of Errors:  88\n",
      "correct=female   guess=male     name=Abbey                         \n",
      "correct=female   guess=male     name=Adah                          \n",
      "correct=female   guess=male     name=Austin                        \n",
      "correct=female   guess=male     name=Bev                           \n",
      "correct=female   guess=male     name=Brooke                        \n",
      "correct=female   guess=male     name=Chad                          \n",
      "correct=female   guess=male     name=Charmian                      \n",
      "correct=female   guess=male     name=Cloe                          \n",
      "correct=female   guess=male     name=Conney                        \n",
      "correct=female   guess=male     name=Deb                           \n",
      "correct=female   guess=male     name=Dix                           \n",
      "correct=female   guess=male     name=Dody                          \n",
      "correct=female   guess=male     name=Edy                           \n",
      "correct=female   guess=male     name=Elke                          \n",
      "correct=female   guess=male     name=Eran                          \n",
      "correct=female   guess=male     name=Ethyl                         \n",
      "correct=female   guess=male     name=Fallon                        \n",
      "correct=female   guess=male     name=Felicdad                      \n",
      "correct=female   guess=male     name=Frank                         \n",
      "correct=female   guess=male     name=Friederike                    \n",
      "correct=female   guess=male     name=Hephzibah                     \n",
      "correct=female   guess=male     name=Hermione                      \n",
      "correct=female   guess=male     name=Hilliary                      \n",
      "correct=female   guess=male     name=Holly                         \n",
      "correct=female   guess=male     name=Ingrid                        \n",
      "correct=female   guess=male     name=Ivett                         \n",
      "correct=female   guess=male     name=Jazmin                        \n",
      "correct=female   guess=male     name=Joyce                         \n",
      "correct=female   guess=male     name=Kerstin                       \n",
      "correct=female   guess=male     name=Kim                           \n",
      "correct=female   guess=male     name=Kipp                          \n",
      "correct=female   guess=male     name=Maddy                         \n",
      "correct=female   guess=male     name=Maud                          \n",
      "correct=female   guess=male     name=Mommy                         \n",
      "correct=female   guess=male     name=Nert                          \n",
      "correct=female   guess=male     name=Oprah                         \n",
      "correct=female   guess=male     name=Penny                         \n",
      "correct=female   guess=male     name=Polly                         \n",
      "correct=female   guess=male     name=Prue                          \n",
      "correct=female   guess=male     name=Raf                           \n",
      "correct=female   guess=male     name=Ragnhild                      \n",
      "correct=female   guess=male     name=Rosario                       \n",
      "correct=female   guess=male     name=Roz                           \n",
      "correct=female   guess=male     name=Scarlett                      \n",
      "correct=female   guess=male     name=Shawn                         \n",
      "correct=female   guess=male     name=Sherry                        \n",
      "correct=female   guess=male     name=Siobhan                       \n",
      "correct=female   guess=male     name=Sunny                         \n",
      "correct=female   guess=male     name=Tobye                         \n",
      "correct=female   guess=male     name=Valery                        \n",
      "correct=female   guess=male     name=Vi                            \n",
      "correct=female   guess=male     name=Wren                          \n",
      "correct=female   guess=male     name=Zoe                           \n",
      "correct=male     guess=female   name=Andrea                        \n",
      "correct=male     guess=female   name=Andrey                        \n",
      "correct=male     guess=female   name=Antoine                       \n",
      "correct=male     guess=female   name=Bailie                        \n",
      "correct=male     guess=female   name=Bernie                        \n",
      "correct=male     guess=female   name=Christie                      \n",
      "correct=male     guess=female   name=Clarence                      \n",
      "correct=male     guess=female   name=Courtney                      \n",
      "correct=male     guess=female   name=Dana                          \n",
      "correct=male     guess=female   name=Felice                        \n",
      "correct=male     guess=female   name=Gabriell                      \n",
      "correct=male     guess=female   name=Georgie                       \n",
      "correct=male     guess=female   name=Geri                          \n",
      "correct=male     guess=female   name=Grace                         \n",
      "correct=male     guess=female   name=Henrie                        \n",
      "correct=male     guess=female   name=Johnnie                       \n",
      "correct=male     guess=female   name=Juan                          \n",
      "correct=male     guess=female   name=Keene                         \n",
      "correct=male     guess=female   name=Larry                         \n",
      "correct=male     guess=female   name=Laurance                      \n",
      "correct=male     guess=female   name=Lemmie                        \n",
      "correct=male     guess=female   name=Leslie                        \n",
      "correct=male     guess=female   name=Lonny                         \n",
      "correct=male     guess=female   name=Maurie                        \n",
      "correct=male     guess=female   name=Michail                       \n",
      "correct=male     guess=female   name=Niki                          \n",
      "correct=male     guess=female   name=Page                          \n",
      "correct=male     guess=female   name=Randy                         \n",
      "correct=male     guess=female   name=Reggy                         \n",
      "correct=male     guess=female   name=See                           \n",
      "correct=male     guess=female   name=Sidnee                        \n",
      "correct=male     guess=female   name=Tonnie                        \n",
      "correct=male     guess=female   name=Vinnie                        \n",
      "correct=male     guess=female   name=Vite                          \n",
      "correct=male     guess=female   name=Wylie                         \n"
     ]
    }
   ],
   "source": [
    "# print error results\n",
    "error_analysis(gender_features3)"
   ]
  },
  {
   "cell_type": "markdown",
   "metadata": {},
   "source": [
    "### Conclusion\n",
    "The performance on the test set is 1% better than the performance on the dev-test set. We did not expect so much improvement. By random chance, the test set has names that adheres to our gender features more than the dev-test set."
   ]
  },
  {
   "cell_type": "code",
   "execution_count": 104,
   "metadata": {},
   "outputs": [
    {
     "name": "stdout",
     "output_type": "stream",
     "text": [
      "0.838\n"
     ]
    }
   ],
   "source": [
    "# final performance test\n",
    "test_set = [(gender_features3(n), gender) for (n, gender) in test_names]\n",
    "print(nltk.classify.accuracy(classifier, test_set))"
   ]
  }
 ],
 "metadata": {
  "kernelspec": {
   "display_name": "Python 3",
   "language": "python",
   "name": "python3"
  },
  "language_info": {
   "codemirror_mode": {
    "name": "ipython",
    "version": 3
   },
   "file_extension": ".py",
   "mimetype": "text/x-python",
   "name": "python",
   "nbconvert_exporter": "python",
   "pygments_lexer": "ipython3",
   "version": "3.6.3"
  }
 },
 "nbformat": 4,
 "nbformat_minor": 2
}