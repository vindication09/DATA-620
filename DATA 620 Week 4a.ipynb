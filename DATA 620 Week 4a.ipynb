{
 "cells": [
  {
   "cell_type": "markdown",
   "metadata": {},
   "source": [
    "# Assignment – High Frequency Words\n",
    "\n",
    "Group 4\n",
    "- Santosh Cheruku\n",
    "- Vinicio Haro\n",
    "- Javern Wilson\n",
    "- Saayed Alam"
   ]
  },
  {
   "cell_type": "markdown",
   "metadata": {},
   "source": [
    "## Problem Statement \n",
    "\n",
    "1. Choose a corpus of interest.\n",
    "2. How many total unique words are in the corpus? (Please feel free to define unique words in any interesting,\n",
    "defensible way).\n",
    "3. Taking the most common words, how many unique words represent half of the total words in the corpus?\n",
    "4. Identify the 200 highest frequency words in this corpus.\n",
    "5. Create a graph that shows the relative frequency of these 200 words.\n",
    "6. Does the observed relative frequency of these words follow Zipf’s law? Explain.\n",
    "7. In what ways do you think the frequency of the words in this corpus differ from “all words in all corpora.”"
   ]
  },
  {
   "cell_type": "code",
   "execution_count": 3,
   "metadata": {},
   "outputs": [],
   "source": [
    "#Download required packages\n",
    "import nltk, re, pprint\n",
    "from nltk import word_tokenize\n",
    "from nltk.corpus import stopwords\n",
    "from urllib import request\n",
    "import pandas as pd\n",
    "import matplotlib.pyplot as plot\n",
    "import string as str\n",
    "from nltk.stem import PorterStemmer\n",
    "#nltk.download('punkt')\n",
    "#nltk.download('stopwords')\n",
    "%matplotlib inline"
   ]
  },
  {
   "cell_type": "markdown",
   "metadata": {},
   "source": [
    "# 1. Choose a Corpus of Interest\n",
    "\n",
    "Project Guttenberg is a site that allows you to read books directly from the HTML or as a standard txt file on the browser. Because of this, it is an ideal to use as a corpus because we do not need to download data locally. We can pull data directly from the URL thus making this work reproducible. \n",
    "\n",
    "For our corpus, we will be using the book BEALBY by H. G. Wells.\n",
    "\n",
    "http://www.gutenberg.org/files/59769/59769-0.txt"
   ]
  },
  {
   "cell_type": "code",
   "execution_count": 4,
   "metadata": {},
   "outputs": [],
   "source": [
    "url = \"http://www.gutenberg.org/files/59769/59769-0.txt\"\n",
    "\n",
    "response = request.urlopen(url)\n",
    "\n",
    "raw = response.read().decode('utf8')"
   ]
  },
  {
   "cell_type": "markdown",
   "metadata": {},
   "source": [
    "## Data cleaning \n",
    "\n",
    "The raw text file contains the parts of the book that we do not want to use in our analysis. We do not want to use the publication page nor the chapters page. Thankfully we can impliment methodology to choose where and when to start reading the text into our notebook. \n",
    "\n",
    "We will also use the word_tokenize function to convert our raw text into a tokenized version.\n",
    "https://kite.com/python/docs/nltk.tokenize.word_tokenize"
   ]
  },
  {
   "cell_type": "code",
   "execution_count": 5,
   "metadata": {},
   "outputs": [],
   "source": [
    "starting_position = raw.find(\"CHAPTER I\")\n",
    "\n",
    "ending_position = raw.find(\"End of the Project Gutenberg EBook of Bealby; A Holiday, by H. G. Wells\")\n",
    "\n",
    "raw = raw[starting_position:ending_position]\n"
   ]
  },
  {
   "cell_type": "markdown",
   "metadata": {},
   "source": [
    "Once we have converted the text into tokens, we want to look at the the number of words. In our case we have 83,914 tokenized words. Converting to tokens will make text operations much more efficient. It should be a data prep step when preparing raw data for some downstream analysis. "
   ]
  },
  {
   "cell_type": "markdown",
   "metadata": {},
   "source": [
    "## 2. How many total unique words are in the corpus? (Please feel free to define unique words in any interesting, defensible way)."
   ]
  },
  {
   "cell_type": "markdown",
   "metadata": {},
   "source": [
    "Before we address the problem of unique words, we want to execute the best practice of cleaning the text data. One example why text should be cleaned is different tenses of the same word such as run and running. If we count them as unqie words, they would be counted as 2 but are they truly unique? No! They mean the same thing in different tenses. We accomplish this by removing the endings of words such as ing , ed, es, and so forth. \n",
    "\n",
    "Another text processing technique we want to use is to make every word lower case. Lets say we have the word \"start\" and somewhere else in the corpuse, we have \"Start.\" By definition, both words are unique because they ae different but in reality, they are the same word except one starts with upper case and the other starts with lower case. \n",
    "\n",
    "We are also going to remove numbers from the raw text. This is a common practice. We do not want to count numbers as words. We can easily do this by applying simple regular expression. \n",
    "\n",
    "Some of the other corpus processing techniques will be to remove whitespace and remove stopwords. \n",
    "\n",
    "We want to define unique words as words that are not stem versions of other words nor common stopwords. \n",
    "\n",
    "Sources:\n",
    "https://medium.com/@datamonsters/text-preprocessing-in-python-steps-tools-and-examples-bf025f872908\n",
    "\n",
    "https://www.analyticsvidhya.com/blog/2018/02/the-different-methods-deal-text-data-predictive-python/\n",
    "\n",
    "https://towardsdatascience.com/tfidf-for-piece-of-text-in-python-43feccaa74f8"
   ]
  },
  {
   "cell_type": "code",
   "execution_count": 6,
   "metadata": {},
   "outputs": [
    {
     "data": {
      "text/plain": [
       "9608"
      ]
     },
     "execution_count": 6,
     "metadata": {},
     "output_type": "execute_result"
    }
   ],
   "source": [
    "raw_tok = word_tokenize(raw)\n",
    "\n",
    "len(set(raw_tok))"
   ]
  },
  {
   "cell_type": "markdown",
   "metadata": {},
   "source": [
    "We have 9,608 lines without doing anything to the raw text file data. After we convert words to tokens, we will only take alpha numeric words and make all words lower case. "
   ]
  },
  {
   "cell_type": "code",
   "execution_count": 7,
   "metadata": {},
   "outputs": [],
   "source": [
    "words = [w for w in raw_tok if w.isalpha()] #alphanumeric\n",
    "\n",
    "words = [w.lower() for w in words] #lowercase"
   ]
  },
  {
   "cell_type": "code",
   "execution_count": 14,
   "metadata": {},
   "outputs": [
    {
     "data": {
      "text/plain": [
       "7686"
      ]
     },
     "execution_count": 14,
     "metadata": {},
     "output_type": "execute_result"
    }
   ],
   "source": [
    "len(set(words))"
   ]
  },
  {
   "cell_type": "code",
   "execution_count": 8,
   "metadata": {},
   "outputs": [],
   "source": [
    "ps = PorterStemmer() #stemming (remove endings)\n",
    "\n",
    "stem = [ps.stem(w) for w in words]\n",
    "\n",
    "stem = set(stem)"
   ]
  },
  {
   "cell_type": "code",
   "execution_count": 9,
   "metadata": {},
   "outputs": [
    {
     "data": {
      "text/plain": [
       "5450"
      ]
     },
     "execution_count": 9,
     "metadata": {},
     "output_type": "execute_result"
    }
   ],
   "source": [
    "len(stem)"
   ]
  },
  {
   "cell_type": "markdown",
   "metadata": {},
   "source": [
    "After cleaning the text to some degree, we are able to count 5,450 unique words. "
   ]
  },
  {
   "cell_type": "markdown",
   "metadata": {},
   "source": [
    "# 3. Taking the most common words, how many unique words represent half of the total words in the corpus?"
   ]
  },
  {
   "cell_type": "markdown",
   "metadata": {},
   "source": [
    "This is a great opportunity to apply stop word removal. "
   ]
  },
  {
   "cell_type": "code",
   "execution_count": 10,
   "metadata": {},
   "outputs": [],
   "source": [
    "stop_words = stopwords.words('english')\n",
    "\n",
    "stem2=[w for w in stem if w not in stop_words]"
   ]
  },
  {
   "cell_type": "markdown",
   "metadata": {},
   "source": [
    "Lets examine the most common words that represent half the total words in the corpus in two ways. Lets see how the counts look when we remove stop works and when we dont. Lets look at when we don't remove stop words first. "
   ]
  },
  {
   "cell_type": "code",
   "execution_count": 11,
   "metadata": {},
   "outputs": [
    {
     "data": {
      "text/html": [
       "<div>\n",
       "<style scoped>\n",
       "    .dataframe tbody tr th:only-of-type {\n",
       "        vertical-align: middle;\n",
       "    }\n",
       "\n",
       "    .dataframe tbody tr th {\n",
       "        vertical-align: top;\n",
       "    }\n",
       "\n",
       "    .dataframe thead th {\n",
       "        text-align: right;\n",
       "    }\n",
       "</style>\n",
       "<table border=\"1\" class=\"dataframe\">\n",
       "  <thead>\n",
       "    <tr style=\"text-align: right;\">\n",
       "      <th></th>\n",
       "      <th>Words</th>\n",
       "      <th>Count</th>\n",
       "    </tr>\n",
       "  </thead>\n",
       "  <tbody>\n",
       "    <tr>\n",
       "      <th>0</th>\n",
       "      <td>the</td>\n",
       "      <td>3730</td>\n",
       "    </tr>\n",
       "    <tr>\n",
       "      <th>1</th>\n",
       "      <td>and</td>\n",
       "      <td>2473</td>\n",
       "    </tr>\n",
       "    <tr>\n",
       "      <th>2</th>\n",
       "      <td>a</td>\n",
       "      <td>2092</td>\n",
       "    </tr>\n",
       "    <tr>\n",
       "      <th>3</th>\n",
       "      <td>of</td>\n",
       "      <td>1943</td>\n",
       "    </tr>\n",
       "    <tr>\n",
       "      <th>4</th>\n",
       "      <td>he</td>\n",
       "      <td>1888</td>\n",
       "    </tr>\n",
       "    <tr>\n",
       "      <th>5</th>\n",
       "      <td>to</td>\n",
       "      <td>1655</td>\n",
       "    </tr>\n",
       "    <tr>\n",
       "      <th>6</th>\n",
       "      <td>was</td>\n",
       "      <td>1206</td>\n",
       "    </tr>\n",
       "    <tr>\n",
       "      <th>7</th>\n",
       "      <td>his</td>\n",
       "      <td>989</td>\n",
       "    </tr>\n",
       "    <tr>\n",
       "      <th>8</th>\n",
       "      <td>in</td>\n",
       "      <td>957</td>\n",
       "    </tr>\n",
       "    <tr>\n",
       "      <th>9</th>\n",
       "      <td>it</td>\n",
       "      <td>937</td>\n",
       "    </tr>\n",
       "  </tbody>\n",
       "</table>\n",
       "</div>"
      ],
      "text/plain": [
       "  Words  Count\n",
       "0   the   3730\n",
       "1   and   2473\n",
       "2     a   2092\n",
       "3    of   1943\n",
       "4    he   1888\n",
       "5    to   1655\n",
       "6   was   1206\n",
       "7   his    989\n",
       "8    in    957\n",
       "9    it    937"
      ]
     },
     "execution_count": 11,
     "metadata": {},
     "output_type": "execute_result"
    }
   ],
   "source": [
    "fd = nltk.FreqDist(words)\n",
    "\n",
    "top_words = fd.most_common(200)\n",
    "\n",
    "i = 0\n",
    "\n",
    "half_words = []\n",
    "\n",
    "for w in top_words:\n",
    "    \n",
    "    if i >= len(raw_tok)/2:\n",
    "        \n",
    "        break\n",
    "        \n",
    "    else:\n",
    "        \n",
    "        i = i + w[1]\n",
    "        \n",
    "        half_words.append(w)\n",
    "        \n",
    "pd.DataFrame(half_words, columns = ['Words','Count']).head(10)\n",
    "\n"
   ]
  },
  {
   "cell_type": "code",
   "execution_count": 12,
   "metadata": {},
   "outputs": [
    {
     "data": {
      "text/plain": [
       "166"
      ]
     },
     "execution_count": 12,
     "metadata": {},
     "output_type": "execute_result"
    }
   ],
   "source": [
    "len(half_words)"
   ]
  },
  {
   "cell_type": "markdown",
   "metadata": {},
   "source": [
    "This result is expected. Without removing any stop words, words such as the or and will appear freqently. "
   ]
  },
  {
   "cell_type": "code",
   "execution_count": 13,
   "metadata": {},
   "outputs": [
    {
     "data": {
      "text/html": [
       "<div>\n",
       "<style scoped>\n",
       "    .dataframe tbody tr th:only-of-type {\n",
       "        vertical-align: middle;\n",
       "    }\n",
       "\n",
       "    .dataframe tbody tr th {\n",
       "        vertical-align: top;\n",
       "    }\n",
       "\n",
       "    .dataframe thead th {\n",
       "        text-align: right;\n",
       "    }\n",
       "</style>\n",
       "<table border=\"1\" class=\"dataframe\">\n",
       "  <thead>\n",
       "    <tr style=\"text-align: right;\">\n",
       "      <th></th>\n",
       "      <th>Words</th>\n",
       "      <th>Count</th>\n",
       "    </tr>\n",
       "  </thead>\n",
       "  <tbody>\n",
       "    <tr>\n",
       "      <th>0</th>\n",
       "      <td>mr</td>\n",
       "      <td>1</td>\n",
       "    </tr>\n",
       "    <tr>\n",
       "      <th>1</th>\n",
       "      <td>ago</td>\n",
       "      <td>1</td>\n",
       "    </tr>\n",
       "    <tr>\n",
       "      <th>2</th>\n",
       "      <td>soda</td>\n",
       "      <td>1</td>\n",
       "    </tr>\n",
       "    <tr>\n",
       "      <th>3</th>\n",
       "      <td>westward</td>\n",
       "      <td>1</td>\n",
       "    </tr>\n",
       "    <tr>\n",
       "      <th>4</th>\n",
       "      <td>henri</td>\n",
       "      <td>1</td>\n",
       "    </tr>\n",
       "    <tr>\n",
       "      <th>5</th>\n",
       "      <td>stretch</td>\n",
       "      <td>1</td>\n",
       "    </tr>\n",
       "    <tr>\n",
       "      <th>6</th>\n",
       "      <td>luggag</td>\n",
       "      <td>1</td>\n",
       "    </tr>\n",
       "    <tr>\n",
       "      <th>7</th>\n",
       "      <td>inadvert</td>\n",
       "      <td>1</td>\n",
       "    </tr>\n",
       "    <tr>\n",
       "      <th>8</th>\n",
       "      <td>thrust</td>\n",
       "      <td>1</td>\n",
       "    </tr>\n",
       "    <tr>\n",
       "      <th>9</th>\n",
       "      <td>contrast</td>\n",
       "      <td>1</td>\n",
       "    </tr>\n",
       "  </tbody>\n",
       "</table>\n",
       "</div>"
      ],
      "text/plain": [
       "      Words  Count\n",
       "0        mr      1\n",
       "1       ago      1\n",
       "2      soda      1\n",
       "3  westward      1\n",
       "4     henri      1\n",
       "5   stretch      1\n",
       "6    luggag      1\n",
       "7  inadvert      1\n",
       "8    thrust      1\n",
       "9  contrast      1"
      ]
     },
     "execution_count": 13,
     "metadata": {},
     "output_type": "execute_result"
    }
   ],
   "source": [
    "fd = nltk.FreqDist(stem2)\n",
    "\n",
    "top_words = fd.most_common(200)\n",
    "\n",
    "i = 0\n",
    "\n",
    "half_words = []\n",
    "\n",
    "for w in top_words:\n",
    "    \n",
    "    if i >= len(raw_tok)/2:\n",
    "        \n",
    "        break\n",
    "        \n",
    "    else:\n",
    "        \n",
    "        i = i + w[1]\n",
    "        \n",
    "        half_words.append(w)\n",
    "        \n",
    "pd.DataFrame(half_words, columns = ['Words','Count']).head(10)\n",
    "\n"
   ]
  },
  {
   "cell_type": "code",
   "execution_count": 14,
   "metadata": {},
   "outputs": [
    {
     "data": {
      "text/plain": [
       "200"
      ]
     },
     "execution_count": 14,
     "metadata": {},
     "output_type": "execute_result"
    }
   ],
   "source": [
    "len(half_words)"
   ]
  },
  {
   "cell_type": "markdown",
   "metadata": {},
   "source": [
    "We get a much different picture when we consider removing the stems from common words in addition to the stop words. 166 unique words make half the corpus with stopwords and stems vs 200 unique words that make half the corpus without stems and stopwords. "
   ]
  },
  {
   "cell_type": "markdown",
   "metadata": {},
   "source": [
    "# 4. Identify the 200 highest frequency words in this corpus."
   ]
  },
  {
   "cell_type": "markdown",
   "metadata": {},
   "source": [
    "From part 3, we know that stop words are most likely going to be present in the top 200 words by frequency. We can verify this with the code below and see how it compares to the stop words and stems removed. "
   ]
  },
  {
   "cell_type": "code",
   "execution_count": 15,
   "metadata": {},
   "outputs": [
    {
     "name": "stdout",
     "output_type": "stream",
     "text": [
      "           Word  Count\n",
      "0           the   3730\n",
      "1           and   2473\n",
      "2             a   2092\n",
      "3            of   1943\n",
      "4            he   1888\n",
      "5            to   1655\n",
      "6           was   1206\n",
      "7           his    989\n",
      "8            in    957\n",
      "9            it    937\n",
      "10         that    836\n",
      "11          had    661\n",
      "12         with    606\n",
      "13          you    570\n",
      "14         said    557\n",
      "15            i    546\n",
      "16            s    544\n",
      "17          for    496\n",
      "18       bealby    476\n",
      "19           at    434\n",
      "20          him    416\n",
      "21          she    402\n",
      "22            t    374\n",
      "23          but    372\n",
      "24           as    340\n",
      "25           on    336\n",
      "26        there    332\n",
      "27          not    321\n",
      "28         then    305\n",
      "29           be    303\n",
      "..          ...    ...\n",
      "170        such     53\n",
      "171       right     53\n",
      "172       never     53\n",
      "173      should     53\n",
      "174       under     53\n",
      "175        even     52\n",
      "176      thomas     52\n",
      "177        felt     51\n",
      "178          mr     50\n",
      "179      laxton     50\n",
      "180        ever     50\n",
      "181        side     49\n",
      "182  moggeridge     49\n",
      "183       house     48\n",
      "184      became     48\n",
      "185       cried     48\n",
      "186        left     47\n",
      "187          im     47\n",
      "188       peter     47\n",
      "189        look     47\n",
      "190       those     45\n",
      "191        life     45\n",
      "192      looked     45\n",
      "193       ought     45\n",
      "194        didn     45\n",
      "195      behind     45\n",
      "196     benshaw     45\n",
      "197         has     44\n",
      "198         day     44\n",
      "199       night     44\n",
      "\n",
      "[200 rows x 2 columns]\n"
     ]
    }
   ],
   "source": [
    "fd = nltk.FreqDist(words)\n",
    "\n",
    "top_words = fd.most_common(200)\n",
    "\n",
    "print(pd.DataFrame(top_words, columns = ['Word', 'Count']).head(200))"
   ]
  },
  {
   "cell_type": "markdown",
   "metadata": {},
   "source": [
    "# 5. Create a graph that shows the relative frequency of these 200 words."
   ]
  },
  {
   "cell_type": "code",
   "execution_count": 16,
   "metadata": {},
   "outputs": [
    {
     "data": {
      "image/png": "[encoded data removed]",
      "text/plain": [
       "<matplotlib.figure.Figure at 0x28206199780>"
      ]
     },
     "metadata": {},
     "output_type": "display_data"
    }
   ],
   "source": [
    "plot.figure(figsize=(18, 10))\n",
    "\n",
    "plot.xticks(rotation=90)\n",
    "\n",
    "plot.rc('xtick', labelsize=7) \n",
    "\n",
    "plot.title(\"Relative Frequency of Top 200 Words\")\n",
    "\n",
    "fd.plot(200)"
   ]
  },
  {
   "cell_type": "markdown",
   "metadata": {},
   "source": [
    "The words are difficult to see so lets see a more drilled down version of perhaps the top 100 words. "
   ]
  },
  {
   "cell_type": "code",
   "execution_count": 18,
   "metadata": {},
   "outputs": [
    {
     "data": {
      "image/png": "[encoded data removed]",
      "text/plain": [
       "<matplotlib.figure.Figure at 0x28206246710>"
      ]
     },
     "metadata": {},
     "output_type": "display_data"
    }
   ],
   "source": [
    "plot.figure(figsize=(18, 10))\n",
    "\n",
    "plot.xticks(rotation=90)\n",
    "\n",
    "plot.rc('xtick', labelsize=10) \n",
    "\n",
    "plot.title(\"Relative Frequency of Top 100 Words\")\n",
    "\n",
    "fd.plot(100)"
   ]
  },
  {
   "cell_type": "markdown",
   "metadata": {},
   "source": [
    "# 6. Does the observed relative frequency of these words follow Zipf’s law? Explain."
   ]
  },
  {
   "cell_type": "markdown",
   "metadata": {},
   "source": [
    "Lets first understand what Zipf's law is. Zipf's law states that for any corpus in a natural language system, the word frequency has an inverse relationship to the rank in its frequency distribution. In our system, we see this law at play. Our frequency table shows a word such as \"the\" being the highest ranked. We also know from the law, generally if a word occurs n times,then the next word in the rank occurs n/2 times however as we can see in our frequency plots, this law does not generally apply directly but rather directionaly. "
   ]
  },
  {
   "cell_type": "markdown",
   "metadata": {},
   "source": [
    "# 7. In what ways do you think the frequency of the words in this corpus differ from “all words in all corpora.”"
   ]
  },
  {
   "cell_type": "markdown",
   "metadata": {},
   "source": [
    "I believe that the frequency of words in this corpus, while not exactly matching zipf's law are going to have a very similar distribution. We can even make the hypothesis that the log scale will be close to linear not only in this corupus but all words in corpora. "
   ]
  }
 ],
 "metadata": {
  "kernelspec": {
   "display_name": "Python 3",
   "language": "python",
   "name": "python3"
  },
  "language_info": {
   "codemirror_mode": {
    "name": "ipython",
    "version": 3
   },
   "file_extension": ".py",
   "mimetype": "text/x-python",
   "name": "python",
   "nbconvert_exporter": "python",
   "pygments_lexer": "ipython3",
   "version": "3.6.4"
  }
 },
 "nbformat": 4,
 "nbformat_minor": 2
}
