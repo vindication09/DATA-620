{
 "cells": [
  {
   "cell_type": "markdown",
   "metadata": {},
   "source": [
    "## DATA-620 Assignment 2b (Group 4) "
   ]
  },
  {
   "cell_type": "markdown",
   "metadata": {},
   "source": [
    "Centrality measures can be used to predict (positive or negative) outcomes for a node.\n",
    "\n",
    "Your task in this week’s assignment is to identify an interesting set of network data that is available on the web (either through web scraping or web APIs) that could be used for analyzing and comparing centrality measures across nodes.  As an additional constraint, there should be at least one categorical variable available for each node (such as “Male” or “Female”; “Republican”, “Democrat,” or “Undecided”, etc.)\n",
    "\n",
    "In addition to identifying your data source, you should create a high level plan that describes how you would load the data for analysis, and describe a hypothetical outcome that could be predicted from comparing degree centrality across categorical groups. \n",
    "\n",
    "For this week’s assignment, you are not required to actually load or analyze the data.  Please see also Project 1 below.\n",
    "\n",
    "You may work in a small group on the assignment.   You should post your document to GitHub by end of day on Wednesday 6/12."
   ]
  },
  {
   "cell_type": "markdown",
   "metadata": {},
   "source": [
    "The dataset group 4 has selected to use is the highly popular flights database. The origin of this data can be found here: https://openflights.org/data.html\n",
    "\n",
    "In order to meet the \"one categorical variable\" requirement, project member Saayed transformed a numberical variable into a categorical variable which will be touched upon in more detail later on. "
   ]
  },
  {
   "cell_type": "code",
   "execution_count": 1,
   "metadata": {},
   "outputs": [
    {
     "data": {
      "text/html": [
       "<div>\n",
       "<style scoped>\n",
       "    .dataframe tbody tr th:only-of-type {\n",
       "        vertical-align: middle;\n",
       "    }\n",
       "\n",
       "    .dataframe tbody tr th {\n",
       "        vertical-align: top;\n",
       "    }\n",
       "\n",
       "    .dataframe thead th {\n",
       "        text-align: right;\n",
       "    }\n",
       "</style>\n",
       "<table border=\"1\" class=\"dataframe\">\n",
       "  <thead>\n",
       "    <tr style=\"text-align: right;\">\n",
       "      <th></th>\n",
       "      <th>origin</th>\n",
       "      <th>dest</th>\n",
       "      <th>total_delay</th>\n",
       "    </tr>\n",
       "  </thead>\n",
       "  <tbody>\n",
       "    <tr>\n",
       "      <th>0</th>\n",
       "      <td>EWR</td>\n",
       "      <td>IAH</td>\n",
       "      <td>1</td>\n",
       "    </tr>\n",
       "    <tr>\n",
       "      <th>1</th>\n",
       "      <td>LGA</td>\n",
       "      <td>IAH</td>\n",
       "      <td>1</td>\n",
       "    </tr>\n",
       "    <tr>\n",
       "      <th>2</th>\n",
       "      <td>JFK</td>\n",
       "      <td>MIA</td>\n",
       "      <td>1</td>\n",
       "    </tr>\n",
       "    <tr>\n",
       "      <th>3</th>\n",
       "      <td>JFK</td>\n",
       "      <td>BQN</td>\n",
       "      <td>0</td>\n",
       "    </tr>\n",
       "    <tr>\n",
       "      <th>4</th>\n",
       "      <td>LGA</td>\n",
       "      <td>ATL</td>\n",
       "      <td>0</td>\n",
       "    </tr>\n",
       "  </tbody>\n",
       "</table>\n",
       "</div>"
      ],
      "text/plain": [
       "  origin dest  total_delay\n",
       "0    EWR  IAH            1\n",
       "1    LGA  IAH            1\n",
       "2    JFK  MIA            1\n",
       "3    JFK  BQN            0\n",
       "4    LGA  ATL            0"
      ]
     },
     "execution_count": 1,
     "metadata": {},
     "output_type": "execute_result"
    }
   ],
   "source": [
    "# Reading in the Data \n",
    "import pandas as pd\n",
    "url = 'https://raw.githubusercontent.com/saayedalam/Web-Analytics/master/Project1_data.csv'\n",
    "df = pd.read_csv(url)\n",
    "df.head()"
   ]
  },
  {
   "cell_type": "markdown",
   "metadata": {},
   "source": [
    "## High Level Plan"
   ]
  },
  {
   "cell_type": "markdown",
   "metadata": {},
   "source": [
    "Data preperation: \n",
    "In order to prepare the data for downstream analysis, we need to perform some operations on our data such that the data resembles a pairwise structure necessary for turning the data into a graphical network. We envision the nodes as being airport destinations where each pair represents flights to and from destinations, hence edges. We derive our own categorical variable from the arrival and departure columns. Our new classification says that if the value is 1, then the flight was early or ontime. If the value is 0, then the flight was delayed. The data is prepared with a simple r script that will be included in the project. We then export the data into a csv and upload to a github location.\n",
    "\n",
    "Data Loading: \n",
    "The data will be read into the jupyter notebook enviorment directly from the github url where the data is being kept. This is mainly to foster an enviormnent where our work can be reproducible. \n",
    "\n",
    "Hypothetical Outcome:\n",
    "By definition, degree centraility is a measure  the number of neighbors a node has. This measure is a good indicator if a node is important or not. In our case, if a particular airport is a central hub that has flights going to more destinations than other smaller airports. We expect airports such as LAX to have a high number of neighbors but we also expect such a big airport to have the most delays as shwon with our derived categorical value. \n",
    "\n"
   ]
  }
 ],
 "metadata": {
  "kernelspec": {
   "display_name": "Python 3",
   "language": "python",
   "name": "python3"
  },
  "language_info": {
   "codemirror_mode": {
    "name": "ipython",
    "version": 3
   },
   "file_extension": ".py",
   "mimetype": "text/x-python",
   "name": "python",
   "nbconvert_exporter": "python",
   "pygments_lexer": "ipython3",
   "version": "3.6.4"
  }
 },
 "nbformat": 4,
 "nbformat_minor": 2
}
